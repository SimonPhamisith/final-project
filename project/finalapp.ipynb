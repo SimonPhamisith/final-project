{
 "cells": [
  {
   "cell_type": "code",
   "execution_count": 34,
   "id": "79e50a5e",
   "metadata": {},
   "outputs": [],
   "source": [
    "import streamlit as st\n",
    "import pandas as pd\n",
    "import plotly.express as px\n",
    "import re\n",
    "\n",
    "excel_file_path = 'JTM_inbound_20240902eng.xlsx'\n",
    "excel_file = pd.ExcelFile(excel_file_path)\n",
    "sheet_names = excel_file.sheet_names \n"
   ]
  },
  {
   "cell_type": "markdown",
   "id": "d9833811",
   "metadata": {},
   "source": [
    "## merged dataset(copy pasted from my final project)"
   ]
  },
  {
   "cell_type": "code",
   "execution_count": 33,
   "id": "bc962f6a",
   "metadata": {},
   "outputs": [],
   "source": [
    "# Load the 'Grand Total' sheet from the Excel file\n",
    "grand_total_df = pd.read_excel(excel_file_path, sheet_name='Grand Total')\n",
    "# Remove unnecessary rows and select the relevant columns\n",
    "grand_total_df_cleaned = grand_total_df.iloc[2:, :2]  # Start from row 3 and use the first two columns\n",
    "grand_total_df_cleaned.columns = ['Month_Year', 'Visitor Arrivals'] \n",
    "\n",
    "\n",
    "# Clean 'Month_Year' column by removing any special characters and parsing the date\n",
    "grand_total_df_cleaned['Month_Year'] = grand_total_df_cleaned['Month_Year'].apply(lambda x: re.sub(r'[^A-Za-z0-9\\s]', '', str(x)))\n",
    "grand_total_df_cleaned['Month_Year'] = pd.to_datetime(grand_total_df_cleaned['Month_Year'], errors='coerce', format='%Y %b')\n",
    "\n",
    "# Drop rows with missing dates or invalid formats\n",
    "grand_total_df_cleaned.dropna(subset=['Month_Year'], inplace=True)\n",
    "\n",
    "# Convert 'Visitor Arrivals' to numeric and drop missing data\n",
    "grand_total_df_cleaned['Visitor Arrivals'] = pd.to_numeric(grand_total_df_cleaned['Visitor Arrivals'], errors='coerce')\n",
    "grand_total_df_cleaned.dropna(inplace=True)\n",
    "# Load the CSV data file\n",
    "csv_data_file_path = 'API_ST.INT.ARVL_DS2_en_csv_v2_32045.csv'\n",
    "csv_data = pd.read_csv(csv_data_file_path, skiprows=3)\n",
    "japan_data = csv_data[csv_data['Country Name'] == 'Japan']\n",
    "\n",
    "# Drop unnecessary columns\n",
    "japan_data_cleaned = japan_data.drop(columns=['Country Code', 'Indicator Name', 'Indicator Code', 'Unnamed: 68'])\n",
    "\n",
    "# Transpose the data so that years become rows\n",
    "japan_data_cleaned = japan_data_cleaned.set_index('Country Name').transpose().reset_index()\n",
    "japan_data_cleaned.columns = ['Year', 'Visitor Arrivals']  # Rename columns for clarity\n",
    "\n",
    "# Convert 'Year' to datetime and handle missing values\n",
    "japan_data_cleaned['Year'] = pd.to_datetime(japan_data_cleaned['Year'], format='%Y', errors='coerce')\n",
    "japan_data_cleaned['Visitor Arrivals'] = pd.to_numeric(japan_data_cleaned['Visitor Arrivals'], errors='coerce')\n",
    "japan_data_cleaned.dropna(inplace=True)\n",
    "# Concatenate the cleaned monthly and annual data\n",
    "merged_data = pd.concat([japan_data_cleaned, grand_total_df_cleaned], ignore_index=True).sort_values(by='Year')\n",
    "\n",
    "# Reset the index\n",
    "merged_data.reset_index(drop=True, inplace=True)\n",
    "\n"
   ]
  },
  {
   "cell_type": "code",
   "execution_count": 44,
   "id": "0b2bab69",
   "metadata": {},
   "outputs": [
    {
     "name": "stderr",
     "output_type": "stream",
     "text": [
      "2024-10-03 18:25:39.764 Thread 'MainThread': missing ScriptRunContext! This warning can be ignored when running in bare mode.\n",
      "2024-10-03 18:25:39.766 Thread 'MainThread': missing ScriptRunContext! This warning can be ignored when running in bare mode.\n",
      "2024-10-03 18:25:39.767 \n",
      "`st.cache` is deprecated and will be removed soon. Please use one of Streamlit's new\n",
      "caching commands, `st.cache_data` or `st.cache_resource`. More information\n",
      "[in our docs](https://docs.streamlit.io/develop/concepts/architecture/caching).\n",
      "\n",
      "**Note**: The behavior of `st.cache` was updated in Streamlit 1.36 to the new caching\n",
      "logic used by `st.cache_data` and `st.cache_resource`. This might lead to some problems\n",
      "or unexpected behavior in certain edge cases.\n",
      "\n",
      "2024-10-03 18:25:39.769 No runtime found, using MemoryCacheStorageManager\n",
      "2024-10-03 18:25:39.772 Thread 'MainThread': missing ScriptRunContext! This warning can be ignored when running in bare mode.\n",
      "2024-10-03 18:25:39.774 Thread 'MainThread': missing ScriptRunContext! This warning can be ignored when running in bare mode.\n",
      "2024-10-03 18:25:39.775 Thread 'MainThread': missing ScriptRunContext! This warning can be ignored when running in bare mode.\n",
      "2024-10-03 18:25:39.778 Thread 'MainThread': missing ScriptRunContext! This warning can be ignored when running in bare mode.\n",
      "2024-10-03 18:25:39.779 Thread 'MainThread': missing ScriptRunContext! This warning can be ignored when running in bare mode.\n"
     ]
    }
   ],
   "source": [
    "# Function to load and clean data\n",
    "@st.cache\n",
    "def load_data():\n",
    "    # Load the Excel data\n",
    "    excel_file_path = 'JTM_inbound_20240902eng.xlsx'\n",
    "    grand_total_df = pd.read_excel(excel_file_path, sheet_name='Grand Total')\n",
    "    grand_total_df_cleaned = grand_total_df.iloc[2:, :2]\n",
    "    grand_total_df_cleaned.columns = ['Month_Year', 'Visitor Arrivals']\n",
    "    grand_total_df_cleaned['Month_Year'] = grand_total_df_cleaned['Month_Year'].apply(lambda x: re.sub(r'[^A-Za-z0-9\\s]', '', str(x)))\n",
    "    grand_total_df_cleaned['Month_Year'] = pd.to_datetime(grand_total_df_cleaned['Month_Year'], errors='coerce', format='%Y %b')\n",
    "    grand_total_df_cleaned.dropna(subset=['Month_Year'], inplace=True)\n",
    "    grand_total_df_cleaned['Visitor Arrivals'] = pd.to_numeric(grand_total_df_cleaned['Visitor Arrivals'], errors='coerce')\n",
    "    grand_total_df_cleaned.dropna(inplace=True)\n",
    "\n",
    "    # Load and clean CSV data\n",
    "    csv_data_file_path = 'API_ST.INT.ARVL_DS2_en_csv_v2_32045.csv'\n",
    "    csv_data = pd.read_csv(csv_data_file_path, skiprows=3)\n",
    "    japan_data = csv_data[csv_data['Country Name'] == 'Japan']\n",
    "    japan_data_cleaned = japan_data.drop(columns=['Country Code', 'Indicator Name', 'Indicator Code', 'Unnamed: 68'])\n",
    "    japan_data_cleaned = japan_data_cleaned.set_index('Country Name').transpose().reset_index()\n",
    "    japan_data_cleaned.columns = ['Year', 'Visitor Arrivals']\n",
    "    japan_data_cleaned['Year'] = pd.to_datetime(japan_data_cleaned['Year'], format='%Y', errors='coerce')\n",
    "    japan_data_cleaned['Visitor Arrivals'] = pd.to_numeric(japan_data_cleaned['Visitor Arrivals'], errors='coerce')\n",
    "    japan_data_cleaned.dropna(inplace=True)\n",
    "\n",
    "    # Load additional CSV files\n",
    "    regional_data = pd.read_csv('regional.csv')\n",
    "    purpose_data = pd.read_csv('purpose.csv')\n",
    "    country_data = pd.read_csv('country.csv')\n",
    "\n",
    "    # Merge data\n",
    "    merged_data = pd.concat([grand_total_df_cleaned, japan_data_cleaned], ignore_index=True).sort_values(by='Month_Year')\n",
    "    merged_data.reset_index(drop=True, inplace=True)\n",
    "\n",
    "    return merged_data, regional_data, purpose_data, country_data\n",
    "\n",
    "# Load the data\n",
    "data, regional_data, purpose_data, country_data = load_data()"
   ]
  },
  {
   "cell_type": "code",
   "execution_count": null,
   "id": "783f3661",
   "metadata": {},
   "outputs": [],
   "source": []
  },
  {
   "cell_type": "markdown",
   "id": "a6c199d8",
   "metadata": {},
   "source": [
    "## set up streamlit"
   ]
  },
  {
   "cell_type": "code",
   "execution_count": 45,
   "id": "06d75482",
   "metadata": {},
   "outputs": [
    {
     "name": "stderr",
     "output_type": "stream",
     "text": [
      "2024-10-03 18:28:53.970 Thread 'MainThread': missing ScriptRunContext! This warning can be ignored when running in bare mode.\n",
      "2024-10-03 18:28:53.973 Thread 'MainThread': missing ScriptRunContext! This warning can be ignored when running in bare mode.\n",
      "2024-10-03 18:28:53.985 Thread 'MainThread': missing ScriptRunContext! This warning can be ignored when running in bare mode.\n",
      "2024-10-03 18:28:53.986 Thread 'MainThread': missing ScriptRunContext! This warning can be ignored when running in bare mode.\n",
      "2024-10-03 18:28:54.005 Thread 'MainThread': missing ScriptRunContext! This warning can be ignored when running in bare mode.\n",
      "2024-10-03 18:28:54.007 Thread 'MainThread': missing ScriptRunContext! This warning can be ignored when running in bare mode.\n",
      "2024-10-03 18:28:54.010 Thread 'MainThread': missing ScriptRunContext! This warning can be ignored when running in bare mode.\n",
      "2024-10-03 18:28:54.080 Thread 'MainThread': missing ScriptRunContext! This warning can be ignored when running in bare mode.\n",
      "2024-10-03 18:28:54.081 Thread 'MainThread': missing ScriptRunContext! This warning can be ignored when running in bare mode.\n",
      "2024-10-03 18:28:54.082 Thread 'MainThread': missing ScriptRunContext! This warning can be ignored when running in bare mode.\n",
      "2024-10-03 18:28:54.085 Thread 'MainThread': missing ScriptRunContext! This warning can be ignored when running in bare mode.\n"
     ]
    },
    {
     "data": {
      "text/plain": [
       "DeltaGenerator()"
      ]
     },
     "execution_count": 45,
     "metadata": {},
     "output_type": "execute_result"
    }
   ],
   "source": [
    "# Streamlit title and filters\n",
    "st.title('Tourism Data Visualization for Japan')\n",
    "years = pd.to_datetime(data['Month_Year']).dt.year.dropna().unique()  # Ensure no NaN values and unique years\n",
    "year_filter = st.sidebar.multiselect('Select Year(s)', options=years, default=[years[-1]] if years.size > 0 else [])\n",
    "\n",
    "# Filter data based on user selection\n",
    "filtered_data = data[data['Month_Year'].dt.year.isin(year_filter)]\n",
    "filtered_country_data = country_data[country_data['Year'].isin(year_filter)]\n",
    "\n",
    "# Plotting the data\n",
    "fig = px.line(filtered_data, x='Month_Year', y='Visitor Arrivals', title='Visitor Arrivals to Japan Over Time')\n",
    "st.plotly_chart(fig)\n",
    "\n"
   ]
  },
  {
   "cell_type": "code",
   "execution_count": 46,
   "id": "b768e120",
   "metadata": {},
   "outputs": [
    {
     "name": "stderr",
     "output_type": "stream",
     "text": [
      "2024-10-03 18:30:24.380 Thread 'MainThread': missing ScriptRunContext! This warning can be ignored when running in bare mode.\n",
      "2024-10-03 18:30:24.381 Thread 'MainThread': missing ScriptRunContext! This warning can be ignored when running in bare mode.\n",
      "2024-10-03 18:30:24.381 Thread 'MainThread': missing ScriptRunContext! This warning can be ignored when running in bare mode.\n",
      "2024-10-03 18:30:24.382 Thread 'MainThread': missing ScriptRunContext! This warning can be ignored when running in bare mode.\n"
     ]
    },
    {
     "data": {
      "text/plain": [
       "DeltaGenerator()"
      ]
     },
     "execution_count": 46,
     "metadata": {},
     "output_type": "execute_result"
    }
   ],
   "source": [
    "# Visualization for regional data\n",
    "fig_regional = px.bar(regional_data, x='Prefecture', y='Visit Rate(%)', title='Visitation Rates by Prefecture')\n",
    "st.plotly_chart(fig_regional)"
   ]
  },
  {
   "cell_type": "code",
   "execution_count": 47,
   "id": "34e6e50d",
   "metadata": {},
   "outputs": [],
   "source": [
    "# Visualization for purpose of visit\n",
    "purpose_data['Year'] = pd.to_datetime(purpose_data['Year']).dt.year  # Ensure 'Year' is in datetime format"
   ]
  },
  {
   "cell_type": "code",
   "execution_count": 48,
   "id": "99121b0f",
   "metadata": {},
   "outputs": [],
   "source": [
    "# Aggregate data by year and purpose\n",
    "purpose_agg = purpose_data.groupby(['Year', 'Purpose_of_visit_to_Japan']).sum().reset_index()"
   ]
  },
  {
   "cell_type": "code",
   "execution_count": 52,
   "id": "d8715204",
   "metadata": {},
   "outputs": [
    {
     "name": "stderr",
     "output_type": "stream",
     "text": [
      "2024-10-03 18:31:47.095 Thread 'MainThread': missing ScriptRunContext! This warning can be ignored when running in bare mode.\n",
      "2024-10-03 18:31:47.096 Thread 'MainThread': missing ScriptRunContext! This warning can be ignored when running in bare mode.\n",
      "2024-10-03 18:31:47.097 Thread 'MainThread': missing ScriptRunContext! This warning can be ignored when running in bare mode.\n",
      "2024-10-03 18:31:47.097 Thread 'MainThread': missing ScriptRunContext! This warning can be ignored when running in bare mode.\n"
     ]
    }
   ],
   "source": [
    "# Visualization for arrivals by country\n",
    "fig_country = px.bar(filtered_country_data, x='Country/Area(23 Markets)', y='Visitor Arrivals', title='Visitor Arrivals by Country')\n",
    "st.plotly_chart(fig_country)\n",
    "# Convert 'Visitor Arrivals' to numeric, handling any non-numeric issues\n",
    "country_data['Visitor Arrivals'] = pd.to_numeric(country_data['Visitor Arrivals'].str.replace(',', ''), errors='coerce')\n"
   ]
  },
  {
   "cell_type": "code",
   "execution_count": 53,
   "id": "97746771",
   "metadata": {},
   "outputs": [
    {
     "name": "stderr",
     "output_type": "stream",
     "text": [
      "2024-10-03 18:31:55.719 Thread 'MainThread': missing ScriptRunContext! This warning can be ignored when running in bare mode.\n",
      "2024-10-03 18:31:55.721 Thread 'MainThread': missing ScriptRunContext! This warning can be ignored when running in bare mode.\n",
      "2024-10-03 18:31:55.726 Thread 'MainThread': missing ScriptRunContext! This warning can be ignored when running in bare mode.\n",
      "2024-10-03 18:31:55.728 Thread 'MainThread': missing ScriptRunContext! This warning can be ignored when running in bare mode.\n",
      "2024-10-03 18:31:55.784 Thread 'MainThread': missing ScriptRunContext! This warning can be ignored when running in bare mode.\n",
      "2024-10-03 18:31:55.785 Thread 'MainThread': missing ScriptRunContext! This warning can be ignored when running in bare mode.\n",
      "2024-10-03 18:31:55.786 Thread 'MainThread': missing ScriptRunContext! This warning can be ignored when running in bare mode.\n",
      "2024-10-03 18:31:55.787 Thread 'MainThread': missing ScriptRunContext! This warning can be ignored when running in bare mode.\n",
      "2024-10-03 18:31:55.788 Thread 'MainThread': missing ScriptRunContext! This warning can be ignored when running in bare mode.\n",
      "2024-10-03 18:31:55.789 Thread 'MainThread': missing ScriptRunContext! This warning can be ignored when running in bare mode.\n",
      "2024-10-03 18:31:55.846 Thread 'MainThread': missing ScriptRunContext! This warning can be ignored when running in bare mode.\n",
      "2024-10-03 18:31:55.846 Thread 'MainThread': missing ScriptRunContext! This warning can be ignored when running in bare mode.\n",
      "2024-10-03 18:31:55.847 Thread 'MainThread': missing ScriptRunContext! This warning can be ignored when running in bare mode.\n",
      "2024-10-03 18:31:55.848 Thread 'MainThread': missing ScriptRunContext! This warning can be ignored when running in bare mode.\n"
     ]
    },
    {
     "data": {
      "text/plain": [
       "DeltaGenerator()"
      ]
     },
     "execution_count": 53,
     "metadata": {},
     "output_type": "execute_result"
    }
   ],
   "source": [
    "data = {\n",
    "    'Year': ['2018', '2019', '2020', '2021', '2022'],\n",
    "    'Visitor Arrivals': [20e6, 30e6, 5e6, 10e6, 25e6],\n",
    "    'Purpose': ['Tourism', 'Business', 'Tourism', 'Business', 'Tourism']\n",
    "}\n",
    "df = pd.DataFrame(data)\n",
    "df['Year'] = pd.to_datetime(df['Year']).dt.year  # converting to datetime\n",
    "\n",
    "# Streamlit App Title\n",
    "st.title('Tourism Data Visualization for Japan')\n",
    "\n",
    "# Line Chart for Visitor Arrivals Over Time with Events\n",
    "st.header(\"Visitor Arrivals to Japan Over Time with Key Events\")\n",
    "\n",
    "# Line Chart: Visitor Arrivals\n",
    "fig = px.line(df, x='Year', y='Visitor Arrivals', title='Visitor Arrivals to Japan (2018-2022)')\n",
    "\n",
    "# Adding event annotations to the line chart\n",
    "events = {'2018': 'Visa Policy Relaxation', '2020': 'COVID-19 Pandemic', '2021': 'Tokyo Olympics'}\n",
    "for year, event in events.items():\n",
    "    fig.add_annotation(x=year, y=df[df['Year'] == int(year)]['Visitor Arrivals'].max(),\n",
    "                       text=event, showarrow=True, arrowhead=1, arrowsize=2, arrowwidth=2, arrowcolor=\"#636efa\")\n",
    "\n",
    "# Display the Line Chart in Streamlit\n",
    "st.plotly_chart(fig)\n",
    "\n",
    "# Stacked Bar Chart for Purpose of Visit\n",
    "st.header(\"Visitor Arrivals by Purpose of Visit\")\n",
    "\n",
    "# Stacked Bar Chart: Purpose of Visit\n",
    "fig_purpose = px.bar(df, x='Year', y='Visitor Arrivals', color='Purpose',\n",
    "                     title='Visitor Arrivals to Japan by Purpose of Visit (2018-2022)')\n",
    "fig_purpose.update_layout(barmode='stack')\n",
    "\n",
    "# Display the Stacked Bar Chart in Streamlit\n",
    "st.plotly_chart(fig_purpose)"
   ]
  },
  {
   "cell_type": "code",
   "execution_count": null,
   "id": "d3166cc4",
   "metadata": {},
   "outputs": [],
   "source": []
  },
  {
   "cell_type": "code",
   "execution_count": null,
   "id": "d6e1f80a",
   "metadata": {},
   "outputs": [],
   "source": []
  }
 ],
 "metadata": {
  "kernelspec": {
   "display_name": "Python 3 (ipykernel)",
   "language": "python",
   "name": "python3"
  },
  "language_info": {
   "codemirror_mode": {
    "name": "ipython",
    "version": 3
   },
   "file_extension": ".py",
   "mimetype": "text/x-python",
   "name": "python",
   "nbconvert_exporter": "python",
   "pygments_lexer": "ipython3",
   "version": "3.11.5"
  }
 },
 "nbformat": 4,
 "nbformat_minor": 5
}
